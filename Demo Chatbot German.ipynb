{
 "cells": [
  {
   "cell_type": "markdown",
   "metadata": {},
   "source": [
    "# Demo der Klassifizierung auf Basis des RASA-Stacks\n",
    "Das nachfolgende Notebook soll zum vertesten der Klassifizierung dienen und eine Aussagen ueber die Qualitaet der gebildeten Klassen liefern.\n",
    "\n",
    "## Anleitung\n",
    "Solande dieses Stystem nicht lokal verwendet wird, kann das Kapitel 1 \"Installation\" uebersprungen werden.\n",
    "\n",
    "Es kann also direkt mit dem Kapitel 2 \"Trainieren der Intents\" gestartet werden\n",
    "\n",
    "## 1. Installation\n",
    "Damit alle notwendigen Pakete installiert sind muessen folgende Pakete installiert werden.\n",
    "```\n",
    "pip install rasa_core\n",
    "pip install rasa_nlu\n",
    "pip install spacy\n",
    "pip install sklearn_crfsuite\n",
    "spacy download de_core_news_sm\n",
    "spacy link de_core_news_sm de --force\n",
    "```\n",
    "Im Anschluss kann die Installtion mit der naechsten Zelle getestet werden"
   ]
  },
  {
   "cell_type": "code",
   "execution_count": 4,
   "metadata": {},
   "outputs": [
    {
     "name": "stdout",
     "output_type": "stream",
     "text": [
      "rasa_nlu: 0.15.1 rasa_core: 0.14.5\n",
      "Loading spaCy language model...\n",
      "Deutsches Sprach-Model geladen\n"
     ]
    }
   ],
   "source": [
    "import rasa_nlu\n",
    "import rasa_core\n",
    "import spacy\n",
    "\n",
    "print(\"rasa_nlu: {} rasa_core: {}\".format(rasa_nlu.__version__, rasa_core.__version__))\n",
    "print(\"Loading spaCy language model...\")\n",
    "print(spacy.load(\"de\")(\"Deutsches Sprach-Model geladen\"))"
   ]
  },
  {
   "cell_type": "markdown",
   "metadata": {},
   "source": [
    "## 2. Trainieren der Intents\n",
    "Nachfolgend koennen die Intents innerhalb der Anfuehrungszeichen gepflegt werden. Da gilt folgende Notation;\n",
    "```\n",
    "## intent:<Name des Anliegens>\n",
    "- <Beispiel 1 fuer das Anliegen>\n",
    "- <Beispiel 2 fuer das Anliegen>\n",
    "- ...\n",
    "\n",
    "## intent:<Name eines weitern Anliegens>\n",
    "- <Beispiel 1 fuer das Anliegen>\n",
    "- <Beispiel 2 fuer das Anliegen>\n",
    "- ...\n",
    "\n",
    "...\n",
    "```\n",
    "\n",
    "Beispiel:\n",
    "```\n",
    "## intent:hallo\n",
    "- Hallo\n",
    "- Guten Tag\n",
    "- Guten Morgen\n",
    "- Hallo zusammen\n",
    "\n",
    "## intent:wetter\n",
    "- Wie ist das Wetter?\n",
    "- Wird es regnen?\n",
    "- Scheint gerade die Sonne?\n",
    "\n",
    "...\n",
    "```\n",
    "\n",
    "Je mehr Beispiele fuer ein Anliegne gegeben werden, desto besser kann das Model trainiert werden und auch spaeter auf Eingaben reagieren.\n",
    "\n",
    "Wenn alle Daten eingegeben oder entsprechend angepasst wurden, dann die beiden Tasten `<STRG>+<ENTER>` gleichzeitig druecken, um die Aenderungen zu speichern.\n",
    "\n",
    "Dies kann einen Moment dauern und es koennten auch rote Meldungen erscheinen. Diese koennen vorerst ignoriert werden. Das Training ist fertig, wenn unterhalb des naechsten Feldes _Taining beendet!_ erscheint."
   ]
  },
  {
   "cell_type": "code",
   "execution_count": 13,
   "metadata": {},
   "outputs": [
    {
     "name": "stdout",
     "output_type": "stream",
     "text": [
      "Writing 'nlu_md' (str) to file 'nlu.md'.\n",
      "Writing 'config' (str) to file 'config.yml'.\n",
      "Fitting 2 folds for each of 6 candidates, totalling 12 fits\n",
      "Taining beendet!\n"
     ]
    },
    {
     "name": "stderr",
     "output_type": "stream",
     "text": [
      "[Parallel(n_jobs=1)]: Using backend SequentialBackend with 1 concurrent workers.\n",
      "[Parallel(n_jobs=1)]: Done  12 out of  12 | elapsed:    0.0s finished\n"
     ]
    }
   ],
   "source": [
    "nlu_md = \"\"\"\n",
    "\n",
    "## intent:asu\n",
    "- ich wurde fristlos gekuendigt, was ist zu tun?\n",
    "- ich wurde gekuendigt und moechte mich gerne arbeitslos melden\n",
    "- ich bin ab kommender Woche arbeitslos und weiss nicht was ich machen soll\n",
    "- heute habe ich eine kuendigung erhalten und melde mich hiermit\n",
    "- mein betrieb hat mich gekuendigt, was soll ich jetzt machen?\n",
    "- wie kann ich mich arbeitssuchend melden?\n",
    "- was ist zu tun, wenn mir mein chef gerade gekuendigt hat\n",
    "- ich wurde gerade rausgeworfen, ich bitte um hilfe\n",
    "\n",
    "## intent:set\n",
    "- ich habe mein abitur und weiss nicht was ich machen soll\n",
    "- ich brauche beratung welche ausbildung ich angehen soll\n",
    "- ich brauche hilfe beim finden meines Studiums\n",
    "- ich weiss nicht, was ich studieren soll\n",
    "- ich habe keine orientierung nach meinem Schulabschluss\n",
    "- ich weiss nicht, ob und was ich studieren soll\n",
    "- soll ich nach dem Abitur eine Ausbildung oder ein Stium machen\n",
    "- ich habe keine vorstellung, welchen Studiengang ich wqehlen soll\n",
    "\n",
    "\n",
    "## intent:zahlung\n",
    "- wo ist mein geld?\n",
    "- ich habe diesen Monat noch kein Geld erhalten\n",
    "- bis jetzt gab es keine Zahlung\n",
    "- Schon wieder gibt es Probleme mit dem Zahlungseingang\n",
    "- Ich habe kein geld erhalten\n",
    "- Seit Tagen fehlt schon das Geld, es wird dringend gebraucht\n",
    "\n",
    "\"\"\"\n",
    "\n",
    "# bitte nur den oberen Teil bearbeiten\n",
    "\n",
    "%store nlu_md > nlu.md\n",
    "\n",
    "config = \"\"\"\n",
    "language: \"de\"\n",
    "\n",
    "pipeline:\n",
    "- name: \"nlp_spacy\"                   # loads the spacy language model\n",
    "- name: \"tokenizer_spacy\"             # splits the sentence into tokens\n",
    "- name: \"intent_featurizer_spacy\"     # transform the sentence into a vector representation\n",
    "- name: \"intent_classifier_sklearn\"   # uses the vector representation to classify using SVM\n",
    "- name: \"ner_crf\"\n",
    "- name: \"ner_synonyms\"\n",
    "\"\"\" \n",
    "\n",
    "%store config > config.yml\n",
    "\n",
    "from rasa_nlu.training_data import load_data\n",
    "from rasa_nlu.config import RasaNLUModelConfig\n",
    "from rasa_nlu.model import Trainer\n",
    "from rasa_nlu import config\n",
    "\n",
    "# loading the nlu training samples\n",
    "training_data = load_data(\"nlu.md\")\n",
    "\n",
    "# trainer to educate our pipeline\n",
    "trainer = Trainer(config.load(\"config.yml\"))\n",
    "\n",
    "# train the model!\n",
    "interpreter = trainer.train(training_data)\n",
    "\n",
    "# store it for future use\n",
    "model_directory = trainer.persist(\"./models/nlu\", fixed_model_name=\"current\")\n",
    "\n",
    "print(\"Taining beendet!\")"
   ]
  },
  {
   "cell_type": "markdown",
   "metadata": {},
   "source": [
    "## 3. Abfragen der Anliegen fuer neue Texte\n",
    "In der nachfolgenden Zeile bitte nach der initialen Erstellung der oberen Anliegen oder nach Aenderungen dieser erneut `<STRG>+<ENTER>` gleichzeitig druecken. Dann erscheint ein neues Eingabefeld. Den neuen Kundentext in diesem Feld eingeben und mit `<ENTER>` absenden. Als Ergebnis erscheint der Name des Anliegens und die Zuverlaessigkeit (convidence), mit welcher die Anfrage zugeordnet werden konnte."
   ]
  },
  {
   "cell_type": "code",
   "execution_count": 15,
   "metadata": {},
   "outputs": [
    {
     "name": "stdout",
     "output_type": "stream",
     "text": [
      "Neue Anfragen eingeben oder mit dem Wort 'stop' beenden\n",
      "Ich habe diesen Monat kein geld erhalten\n",
      "{'name': 'zahlung', 'confidence': 0.7202977609711297}\n",
      "Ich wurde gekuendigt, was soll ich tun?\n",
      "{'name': 'asu', 'confidence': 0.6448943019307292}\n",
      "Ich habe keine Ahnung was ich studieren soll\n",
      "{'name': 'set', 'confidence': 0.6281458600273484}\n",
      "stop\n"
     ]
    }
   ],
   "source": [
    "print(\"Neue Anfragen eingeben oder mit dem Wort 'stop' beenden\")\n",
    "while True:\n",
    "    a = input()\n",
    "    if a == 'stop':\n",
    "        break\n",
    "    responses = interpreter.parse(a)\n",
    "    print(responses['intent'])"
   ]
  }
 ],
 "metadata": {
  "kernelspec": {
   "display_name": "Python 3",
   "language": "python",
   "name": "python3"
  },
  "language_info": {
   "codemirror_mode": {
    "name": "ipython",
    "version": 3
   },
   "file_extension": ".py",
   "mimetype": "text/x-python",
   "name": "python",
   "nbconvert_exporter": "python",
   "pygments_lexer": "ipython3",
   "version": "3.7.1"
  }
 },
 "nbformat": 4,
 "nbformat_minor": 2
}
